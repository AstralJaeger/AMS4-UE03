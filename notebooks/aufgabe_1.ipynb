{
 "cells": [
  {
   "metadata": {
    "ExecuteTime": {
     "end_time": "2024-06-02T13:45:14.554205Z",
     "start_time": "2024-06-02T13:45:14.551763Z"
    }
   },
   "cell_type": "code",
   "source": [
    "import os\n",
    "import networkx as nx\n",
    "import ams"
   ],
   "id": "48791dd78cacdb1d",
   "outputs": [],
   "execution_count": 2
  },
  {
   "metadata": {},
   "cell_type": "markdown",
   "source": [
    "# Aufgabe 01\n",
    "\n",
    "Suchen Sie einen minimalen Spannbaum mit dem Algorithmus von Prim und stellen Sie diesen dar.\n",
    "    Welche Kosten hat dieser?\n"
   ],
   "id": "adaeb2678f142075"
  },
  {
   "cell_type": "code",
   "id": "initial_id",
   "metadata": {
    "collapsed": true,
    "ExecuteTime": {
     "end_time": "2024-06-02T13:45:14.753444Z",
     "start_time": "2024-06-02T13:45:14.567401Z"
    }
   },
   "source": [
    "G = nx.Graph()\n",
    "G.add_edge('a', 'b', weight=2)\n",
    "G.add_edge('a', 'd', weight=1)\n",
    "G.add_edge('b', 'c', weight=1)\n",
    "G.add_edge('b', 'd', weight=3)\n",
    "G.add_edge('b', '2', weight=2)\n",
    "G.add_edge('c', 'e', weight=2)\n",
    "G.add_edge('c', 'f', weight=7)\n",
    "G.add_edge('d', 'e', weight=2)\n",
    "G.add_edge('d', 'g', weight=5)\n",
    "G.add_edge('e', 'f', weight=4)\n",
    "G.add_edge('e', 'g', weight=5)\n",
    "G.add_edge('e', 'h', weight=5)\n",
    "G.add_edge('f', 'h', weight=3)\n",
    "G.add_edge('f', 'i', weight=1)\n",
    "G.add_edge('g', 'h', weight=5)\n",
    "G.add_edge('h', 'i', weight=3)\n",
    "\n",
    "ams.plot_and_save(G, os.path.join('aufgabe_01', 'graph.png'))"
   ],
   "outputs": [
    {
     "ename": "ImportError",
     "evalue": "requires pygraphviz http://pygraphviz.github.io/",
     "output_type": "error",
     "traceback": [
      "\u001B[1;31m---------------------------------------------------------------------------\u001B[0m",
      "\u001B[1;31mModuleNotFoundError\u001B[0m                       Traceback (most recent call last)",
      "File \u001B[1;32mC:\\ws\\_fh\\AMS4-UE03\\notebooks\\.venv\\Lib\\site-packages\\networkx\\drawing\\nx_agraph.py:134\u001B[0m, in \u001B[0;36mto_agraph\u001B[1;34m(N)\u001B[0m\n\u001B[0;32m    133\u001B[0m \u001B[38;5;28;01mtry\u001B[39;00m:\n\u001B[1;32m--> 134\u001B[0m     \u001B[38;5;28;01mimport\u001B[39;00m \u001B[38;5;21;01mpygraphviz\u001B[39;00m\n\u001B[0;32m    135\u001B[0m \u001B[38;5;28;01mexcept\u001B[39;00m \u001B[38;5;167;01mImportError\u001B[39;00m \u001B[38;5;28;01mas\u001B[39;00m err:\n",
      "\u001B[1;31mModuleNotFoundError\u001B[0m: No module named 'pygraphviz'",
      "\nThe above exception was the direct cause of the following exception:\n",
      "\u001B[1;31mImportError\u001B[0m                               Traceback (most recent call last)",
      "Cell \u001B[1;32mIn[3], line 19\u001B[0m\n\u001B[0;32m     16\u001B[0m G\u001B[38;5;241m.\u001B[39madd_edge(\u001B[38;5;124m'\u001B[39m\u001B[38;5;124mg\u001B[39m\u001B[38;5;124m'\u001B[39m, \u001B[38;5;124m'\u001B[39m\u001B[38;5;124mh\u001B[39m\u001B[38;5;124m'\u001B[39m, weight\u001B[38;5;241m=\u001B[39m\u001B[38;5;241m5\u001B[39m)\n\u001B[0;32m     17\u001B[0m G\u001B[38;5;241m.\u001B[39madd_edge(\u001B[38;5;124m'\u001B[39m\u001B[38;5;124mh\u001B[39m\u001B[38;5;124m'\u001B[39m, \u001B[38;5;124m'\u001B[39m\u001B[38;5;124mi\u001B[39m\u001B[38;5;124m'\u001B[39m, weight\u001B[38;5;241m=\u001B[39m\u001B[38;5;241m3\u001B[39m)\n\u001B[1;32m---> 19\u001B[0m \u001B[43mams\u001B[49m\u001B[38;5;241;43m.\u001B[39;49m\u001B[43mplot_and_save\u001B[49m\u001B[43m(\u001B[49m\u001B[43mG\u001B[49m\u001B[43m,\u001B[49m\u001B[43m \u001B[49m\u001B[43mos\u001B[49m\u001B[38;5;241;43m.\u001B[39;49m\u001B[43mpath\u001B[49m\u001B[38;5;241;43m.\u001B[39;49m\u001B[43mjoin\u001B[49m\u001B[43m(\u001B[49m\u001B[38;5;124;43m'\u001B[39;49m\u001B[38;5;124;43maufgabe_01\u001B[39;49m\u001B[38;5;124;43m'\u001B[39;49m\u001B[43m,\u001B[49m\u001B[43m \u001B[49m\u001B[38;5;124;43m'\u001B[39;49m\u001B[38;5;124;43mgraph.png\u001B[39;49m\u001B[38;5;124;43m'\u001B[39;49m\u001B[43m)\u001B[49m\u001B[43m)\u001B[49m\n",
      "File \u001B[1;32mC:\\ws\\_fh\\AMS4-UE03\\notebooks\\ams.py:13\u001B[0m, in \u001B[0;36mplot_and_save\u001B[1;34m(graph, filename)\u001B[0m\n\u001B[0;32m     12\u001B[0m \u001B[38;5;28;01mdef\u001B[39;00m \u001B[38;5;21mplot_and_save\u001B[39m(graph: nx\u001B[38;5;241m.\u001B[39mGraph, filename):\n\u001B[1;32m---> 13\u001B[0m     a \u001B[38;5;241m=\u001B[39m \u001B[43mto_agraph\u001B[49m\u001B[43m(\u001B[49m\u001B[43mgraph\u001B[49m\u001B[43m)\u001B[49m\n\u001B[0;32m     14\u001B[0m     image_path \u001B[38;5;241m=\u001B[39m os\u001B[38;5;241m.\u001B[39mpath\u001B[38;5;241m.\u001B[39mjoin(basepath, filename)\n\u001B[0;32m     15\u001B[0m     a\u001B[38;5;241m.\u001B[39mdraw(image_path, prog\u001B[38;5;241m=\u001B[39m\u001B[38;5;124m'\u001B[39m\u001B[38;5;124mdot\u001B[39m\u001B[38;5;124m'\u001B[39m, \u001B[38;5;28mformat\u001B[39m\u001B[38;5;241m=\u001B[39m\u001B[38;5;124m'\u001B[39m\u001B[38;5;124mpng\u001B[39m\u001B[38;5;124m'\u001B[39m)\n",
      "File \u001B[1;32mC:\\ws\\_fh\\AMS4-UE03\\notebooks\\.venv\\Lib\\site-packages\\networkx\\drawing\\nx_agraph.py:136\u001B[0m, in \u001B[0;36mto_agraph\u001B[1;34m(N)\u001B[0m\n\u001B[0;32m    134\u001B[0m     \u001B[38;5;28;01mimport\u001B[39;00m \u001B[38;5;21;01mpygraphviz\u001B[39;00m\n\u001B[0;32m    135\u001B[0m \u001B[38;5;28;01mexcept\u001B[39;00m \u001B[38;5;167;01mImportError\u001B[39;00m \u001B[38;5;28;01mas\u001B[39;00m err:\n\u001B[1;32m--> 136\u001B[0m     \u001B[38;5;28;01mraise\u001B[39;00m \u001B[38;5;167;01mImportError\u001B[39;00m(\u001B[38;5;124m\"\u001B[39m\u001B[38;5;124mrequires pygraphviz http://pygraphviz.github.io/\u001B[39m\u001B[38;5;124m\"\u001B[39m) \u001B[38;5;28;01mfrom\u001B[39;00m \u001B[38;5;21;01merr\u001B[39;00m\n\u001B[0;32m    137\u001B[0m directed \u001B[38;5;241m=\u001B[39m N\u001B[38;5;241m.\u001B[39mis_directed()\n\u001B[0;32m    138\u001B[0m strict \u001B[38;5;241m=\u001B[39m nx\u001B[38;5;241m.\u001B[39mnumber_of_selfloops(N) \u001B[38;5;241m==\u001B[39m \u001B[38;5;241m0\u001B[39m \u001B[38;5;129;01mand\u001B[39;00m \u001B[38;5;129;01mnot\u001B[39;00m N\u001B[38;5;241m.\u001B[39mis_multigraph()\n",
      "\u001B[1;31mImportError\u001B[0m: requires pygraphviz http://pygraphviz.github.io/"
     ]
    }
   ],
   "execution_count": 3
  },
  {
   "metadata": {},
   "cell_type": "code",
   "source": "",
   "id": "95bcbbdda09012f9",
   "outputs": [],
   "execution_count": null
  },
  {
   "metadata": {},
   "cell_type": "markdown",
   "source": [
    "```ps\n",
    "python -m pip install --config-settings=\"--global-option=build_ext\" --config-settings=\"--global-option=\"-I \\\"C:\\Program Files\\Graphviz\\include\\\"\" --config-settings=\"--global-option=\"-L \\\"C:\\Program Files\\Graphviz\\lib\\\"\" pygraphviz\n",
    "```"
   ],
   "id": "7278e9a87084dc25"
  },
  {
   "metadata": {},
   "cell_type": "code",
   "outputs": [],
   "execution_count": null,
   "source": "",
   "id": "1fdc0aaec620c14b"
  }
 ],
 "metadata": {
  "kernelspec": {
   "display_name": "Python 3",
   "language": "python",
   "name": "python3"
  },
  "language_info": {
   "codemirror_mode": {
    "name": "ipython",
    "version": 2
   },
   "file_extension": ".py",
   "mimetype": "text/x-python",
   "name": "python",
   "nbconvert_exporter": "python",
   "pygments_lexer": "ipython2",
   "version": "2.7.6"
  }
 },
 "nbformat": 4,
 "nbformat_minor": 5
}
