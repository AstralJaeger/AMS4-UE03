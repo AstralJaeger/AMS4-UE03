{
 "cells": [
  {
   "metadata": {},
   "cell_type": "code",
   "source": [
    "!pip install networkx\n",
    "!pip install --config-settings=\"--global-option=build_ext\" --config-settings=\"--global-option=-I$(brew --prefix graphviz)/include/\" --config-settings=\"--global-option=-L$(brew --prefix graphviz)/lib/\" pygraphviz\n"
   ],
   "id": "1c286cd352468db4",
   "outputs": [],
   "execution_count": null
  },
  {
   "metadata": {},
   "cell_type": "code",
   "source": [
    "import os\n",
    "import random\n",
    "import heapq\n",
    "from typing import Any\n",
    "import networkx as nx\n",
    "from networkx.drawing.nx_agraph import to_agraph\n",
    "from IPython.core.display import Image\n",
    "\n",
    "basepath = os.path.join('..', 'images')\n",
    "if not os.path.exists(basepath):\n",
    "    os.makedirs(os.path.join(basepath), exist_ok=True)"
   ],
   "id": "48791dd78cacdb1d",
   "outputs": [],
   "execution_count": null
  },
  {
   "metadata": {},
   "cell_type": "markdown",
   "source": [
    "# Aufgabe 06 - Page-Rank\n",
    "\n",
    "Bestimmen Sie die Matrizen $\\widetilde{A}$, $\\widetilde{A}$ und $M$ für den Dämpfungsfaktor $d = 0.75$ und stellen Sie diese dar.\n",
    "Berechnen Sie den PageRank, geben Sie den Vektor $R$ nach den ersten $3$ Iterationen aus dem Potenzverfahren an (Initialwert $R_0$, $R_1$, $R_2$, $R_3$) wobei die Zahl im Index für die Iteration steht.\n",
    "Was bedeutet der PageRank?"
   ],
   "id": "adaeb2678f142075"
  },
  {
   "cell_type": "code",
   "id": "initial_id",
   "metadata": {
    "collapsed": true
   },
   "source": [
    "G = nx.DiGraph()\n",
    "G.add_edge(1, 2)\n",
    "G.add_edge(1, 3)\n",
    "G.add_edge(1, 4)\n",
    "G.add_edge(2, 1)\n",
    "G.add_edge(2, 3)\n",
    "G.add_edge(5, 1)\n",
    "\n",
    "g = to_agraph(G)\n",
    "g.layout(prog='dot')\n",
    "\n",
    "for edge in g.edges():\n",
    "    edge.attr['label'] = edge.attr['weight']\n",
    "\n",
    "graph_file = os.path.join(basepath, f'a06a_graph.png')\n",
    "g.draw(graph_file, prog='dot', format='png')\n",
    "\n",
    "display(Image(graph_file))"
   ],
   "outputs": [],
   "execution_count": null
  },
  {
   "metadata": {},
   "cell_type": "code",
   "source": "",
   "id": "384aa61bdd36badf",
   "outputs": [],
   "execution_count": null
  }
 ],
 "metadata": {
  "kernelspec": {
   "display_name": "Python 3",
   "language": "python",
   "name": "python3"
  },
  "language_info": {
   "codemirror_mode": {
    "name": "ipython",
    "version": 2
   },
   "file_extension": ".py",
   "mimetype": "text/x-python",
   "name": "python",
   "nbconvert_exporter": "python",
   "pygments_lexer": "ipython2",
   "version": "2.7.6"
  }
 },
 "nbformat": 4,
 "nbformat_minor": 5
}
