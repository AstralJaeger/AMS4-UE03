{
 "cells": [
  {
   "metadata": {
    "ExecuteTime": {
     "end_time": "2024-06-07T22:40:40.537551Z",
     "start_time": "2024-06-07T22:40:37.376013Z"
    }
   },
   "cell_type": "code",
   "source": [
    "!pip install networkx\n",
    "!pip install numpy\n",
    "!pip install pandas\n",
    "!pip install scipy\n",
    "!pip install --config-settings=\"--global-option=build_ext\" --config-settings=\"--global-option=-I$(brew --prefix graphviz)/include/\" --config-settings=\"--global-option=-L$(brew --prefix graphviz)/lib/\" pygraphviz\n"
   ],
   "id": "1c286cd352468db4",
   "outputs": [
    {
     "name": "stdout",
     "output_type": "stream",
     "text": [
      "Requirement already satisfied: networkx in /Users/astral/ws/AMS4-UE03/venv/lib/python3.12/site-packages (3.3)\r\n",
      "Requirement already satisfied: numpy in /Users/astral/ws/AMS4-UE03/venv/lib/python3.12/site-packages (1.26.4)\r\n",
      "Requirement already satisfied: pandas in /Users/astral/ws/AMS4-UE03/venv/lib/python3.12/site-packages (2.2.2)\r\n",
      "Requirement already satisfied: numpy>=1.26.0 in /Users/astral/ws/AMS4-UE03/venv/lib/python3.12/site-packages (from pandas) (1.26.4)\r\n",
      "Requirement already satisfied: python-dateutil>=2.8.2 in /Users/astral/ws/AMS4-UE03/venv/lib/python3.12/site-packages (from pandas) (2.9.0.post0)\r\n",
      "Requirement already satisfied: pytz>=2020.1 in /Users/astral/ws/AMS4-UE03/venv/lib/python3.12/site-packages (from pandas) (2024.1)\r\n",
      "Requirement already satisfied: tzdata>=2022.7 in /Users/astral/ws/AMS4-UE03/venv/lib/python3.12/site-packages (from pandas) (2024.1)\r\n",
      "Requirement already satisfied: six>=1.5 in /Users/astral/ws/AMS4-UE03/venv/lib/python3.12/site-packages (from python-dateutil>=2.8.2->pandas) (1.16.0)\r\n",
      "Requirement already satisfied: scipy in /Users/astral/ws/AMS4-UE03/venv/lib/python3.12/site-packages (1.13.1)\r\n",
      "Requirement already satisfied: numpy<2.3,>=1.22.4 in /Users/astral/ws/AMS4-UE03/venv/lib/python3.12/site-packages (from scipy) (1.26.4)\r\n",
      "Requirement already satisfied: pygraphviz in /Users/astral/ws/AMS4-UE03/venv/lib/python3.12/site-packages (1.13)\r\n"
     ]
    }
   ],
   "execution_count": 24
  },
  {
   "metadata": {
    "ExecuteTime": {
     "end_time": "2024-06-07T22:40:40.542002Z",
     "start_time": "2024-06-07T22:40:40.539034Z"
    }
   },
   "cell_type": "code",
   "source": [
    "import os\n",
    "\n",
    "import networkx as nx\n",
    "import numpy as np\n",
    "import pandas as pd\n",
    "from IPython.core.display import Image\n",
    "from networkx.drawing.nx_agraph import to_agraph\n",
    "\n",
    "basepath = os.path.join('..', 'images')\n",
    "if not os.path.exists(basepath):\n",
    "    os.makedirs(os.path.join(basepath), exist_ok=True)"
   ],
   "id": "48791dd78cacdb1d",
   "outputs": [],
   "execution_count": 25
  },
  {
   "metadata": {},
   "cell_type": "markdown",
   "source": [
    "# Aufgabe 06 - Page-Rank\n",
    "\n",
    "Bestimmen Sie die Matrizen $\\widetilde{A}$, $\\widetilde{A}$ und $M$ für den Dämpfungsfaktor $d = 0.75$ und stellen Sie diese dar.\n",
    "Berechnen Sie den PageRank, geben Sie den Vektor $R$ nach den ersten $3$ Iterationen aus dem Potenzverfahren an (Initialwert $R_0$, $R_1$, $R_2$, $R_3$) wobei die Zahl im Index für die Iteration steht.\n",
    "Was bedeutet der PageRank?"
   ],
   "id": "adaeb2678f142075"
  },
  {
   "cell_type": "code",
   "id": "initial_id",
   "metadata": {
    "collapsed": true,
    "ExecuteTime": {
     "end_time": "2024-06-07T22:40:40.901511Z",
     "start_time": "2024-06-07T22:40:40.542781Z"
    }
   },
   "source": [
    "G = nx.DiGraph()\n",
    "G.add_edge(1, 2)\n",
    "G.add_edge(1, 3)\n",
    "G.add_edge(1, 4)\n",
    "G.add_edge(2, 1)\n",
    "G.add_edge(2, 3)\n",
    "G.add_edge(5, 1)\n",
    "\n",
    "g = to_agraph(G)\n",
    "g.layout(prog='dot')\n",
    "\n",
    "graph_file = os.path.join(basepath, f'a06a_graph.png')\n",
    "g.draw(graph_file, prog='dot', format='png')\n",
    "\n",
    "display(Image(graph_file))"
   ],
   "outputs": [
    {
     "data": {
      "image/png": "[encoded data removed]",
      "text/plain": [
       "<IPython.core.display.Image object>"
      ]
     },
     "metadata": {},
     "output_type": "display_data"
    }
   ],
   "execution_count": 26
  },
  {
   "metadata": {
    "ExecuteTime": {
     "end_time": "2024-06-07T22:40:40.906867Z",
     "start_time": "2024-06-07T22:40:40.902533Z"
    }
   },
   "cell_type": "code",
   "source": [
    "def create_transition_matrix(G, d=0.75):\n",
    "    N = len(G.nodes)\n",
    "    A = nx.adjacency_matrix(G, nodelist=sorted(G.nodes)).todense()\n",
    "    A = np.array(A, dtype=float)\n",
    "    out_degree = np.sum(A, axis=1)\n",
    "\n",
    "    # Avoid division by zero by setting 1 where out_degree is 0\n",
    "    out_degree[out_degree == 0] = 1\n",
    "    M = A / out_degree\n",
    "\n",
    "    # Calculate the Google matrix with damping factor\n",
    "    G_matrix = d * M + (1 - d) / N * np.ones((N, N))\n",
    "\n",
    "    return G_matrix, M\n",
    "\n",
    "def pagerank(G, d=0.75, iterations=3):\n",
    "    N = len(G.nodes)\n",
    "    G_matrix, M = create_transition_matrix(G, d)\n",
    "\n",
    "    # Initial vector R_0\n",
    "    R = np.ones(N) / N\n",
    "\n",
    "    R_list = [R]\n",
    "    for _ in range(iterations):\n",
    "        R = np.dot(G_matrix, R)\n",
    "        R_list.append(R)\n",
    "\n",
    "    return R_list, G_matrix, M\n",
    "\n",
    "R_list, G_matrix, M = pagerank(G)\n",
    "\n",
    "# Display the results\n",
    "for i, R in enumerate(R_list):\n",
    "    print(f\"R_{i} = {R}\")\n",
    "\n",
    "print(\"\\nGoogle Matrix G (with damping factor d=0.75):\\n\", G_matrix)\n",
    "print(\"\\nTransition Matrix M:\\n\", M)\n"
   ],
   "id": "384aa61bdd36badf",
   "outputs": [
    {
     "name": "stdout",
     "output_type": "stream",
     "text": [
      "R_0 = [0.2 0.2 0.2 0.2 0.2]\n",
      "R_1 = [0.425 0.25  0.05  0.05  0.1  ]\n",
      "R_2 = [0.2125  0.1875  0.04375 0.04375 0.15   ]\n",
      "R_3 = [0.1678125 0.1178125 0.031875  0.031875  0.085    ]\n",
      "\n",
      "Google Matrix G (with damping factor d=0.75):\n",
      " [[0.05  0.425 0.8   0.8   0.05 ]\n",
      " [0.3   0.05  0.8   0.05  0.05 ]\n",
      " [0.05  0.05  0.05  0.05  0.05 ]\n",
      " [0.05  0.05  0.05  0.05  0.05 ]\n",
      " [0.3   0.05  0.05  0.05  0.05 ]]\n",
      "\n",
      "Transition Matrix M:\n",
      " [[0.         0.5        1.         1.         0.        ]\n",
      " [0.33333333 0.         1.         0.         0.        ]\n",
      " [0.         0.         0.         0.         0.        ]\n",
      " [0.         0.         0.         0.         0.        ]\n",
      " [0.33333333 0.         0.         0.         0.        ]]\n"
     ]
    }
   ],
   "execution_count": 27
  },
  {
   "metadata": {
    "ExecuteTime": {
     "end_time": "2024-06-07T22:40:40.912241Z",
     "start_time": "2024-06-07T22:40:40.907439Z"
    }
   },
   "cell_type": "code",
   "source": [
    "print('Transition Matrix M')\n",
    "display(pd.DataFrame(M))"
   ],
   "id": "7f4662716eb17924",
   "outputs": [
    {
     "name": "stdout",
     "output_type": "stream",
     "text": [
      "Transition Matrix M\n"
     ]
    },
    {
     "data": {
      "text/plain": [
       "          0    1    2    3    4\n",
       "0  0.000000  0.5  1.0  1.0  0.0\n",
       "1  0.333333  0.0  1.0  0.0  0.0\n",
       "2  0.000000  0.0  0.0  0.0  0.0\n",
       "3  0.000000  0.0  0.0  0.0  0.0\n",
       "4  0.333333  0.0  0.0  0.0  0.0"
      ],
      "text/html": [
       "<div>\n",
       "<style scoped>\n",
       "    .dataframe tbody tr th:only-of-type {\n",
       "        vertical-align: middle;\n",
       "    }\n",
       "\n",
       "    .dataframe tbody tr th {\n",
       "        vertical-align: top;\n",
       "    }\n",
       "\n",
       "    .dataframe thead th {\n",
       "        text-align: right;\n",
       "    }\n",
       "</style>\n",
       "<table border=\"1\" class=\"dataframe\">\n",
       "  <thead>\n",
       "    <tr style=\"text-align: right;\">\n",
       "      <th></th>\n",
       "      <th>0</th>\n",
       "      <th>1</th>\n",
       "      <th>2</th>\n",
       "      <th>3</th>\n",
       "      <th>4</th>\n",
       "    </tr>\n",
       "  </thead>\n",
       "  <tbody>\n",
       "    <tr>\n",
       "      <th>0</th>\n",
       "      <td>0.000000</td>\n",
       "      <td>0.5</td>\n",
       "      <td>1.0</td>\n",
       "      <td>1.0</td>\n",
       "      <td>0.0</td>\n",
       "    </tr>\n",
       "    <tr>\n",
       "      <th>1</th>\n",
       "      <td>0.333333</td>\n",
       "      <td>0.0</td>\n",
       "      <td>1.0</td>\n",
       "      <td>0.0</td>\n",
       "      <td>0.0</td>\n",
       "    </tr>\n",
       "    <tr>\n",
       "      <th>2</th>\n",
       "      <td>0.000000</td>\n",
       "      <td>0.0</td>\n",
       "      <td>0.0</td>\n",
       "      <td>0.0</td>\n",
       "      <td>0.0</td>\n",
       "    </tr>\n",
       "    <tr>\n",
       "      <th>3</th>\n",
       "      <td>0.000000</td>\n",
       "      <td>0.0</td>\n",
       "      <td>0.0</td>\n",
       "      <td>0.0</td>\n",
       "      <td>0.0</td>\n",
       "    </tr>\n",
       "    <tr>\n",
       "      <th>4</th>\n",
       "      <td>0.333333</td>\n",
       "      <td>0.0</td>\n",
       "      <td>0.0</td>\n",
       "      <td>0.0</td>\n",
       "      <td>0.0</td>\n",
       "    </tr>\n",
       "  </tbody>\n",
       "</table>\n",
       "</div>"
      ]
     },
     "metadata": {},
     "output_type": "display_data"
    }
   ],
   "execution_count": 28
  },
  {
   "metadata": {
    "ExecuteTime": {
     "end_time": "2024-06-07T22:40:40.917069Z",
     "start_time": "2024-06-07T22:40:40.912930Z"
    }
   },
   "cell_type": "code",
   "source": [
    "print('Google Matrix G')\n",
    "display(pd.DataFrame(G_matrix))"
   ],
   "id": "8de8ce173b029f65",
   "outputs": [
    {
     "name": "stdout",
     "output_type": "stream",
     "text": [
      "Google Matrix G\n"
     ]
    },
    {
     "data": {
      "text/plain": [
       "      0      1     2     3     4\n",
       "0  0.05  0.425  0.80  0.80  0.05\n",
       "1  0.30  0.050  0.80  0.05  0.05\n",
       "2  0.05  0.050  0.05  0.05  0.05\n",
       "3  0.05  0.050  0.05  0.05  0.05\n",
       "4  0.30  0.050  0.05  0.05  0.05"
      ],
      "text/html": [
       "<div>\n",
       "<style scoped>\n",
       "    .dataframe tbody tr th:only-of-type {\n",
       "        vertical-align: middle;\n",
       "    }\n",
       "\n",
       "    .dataframe tbody tr th {\n",
       "        vertical-align: top;\n",
       "    }\n",
       "\n",
       "    .dataframe thead th {\n",
       "        text-align: right;\n",
       "    }\n",
       "</style>\n",
       "<table border=\"1\" class=\"dataframe\">\n",
       "  <thead>\n",
       "    <tr style=\"text-align: right;\">\n",
       "      <th></th>\n",
       "      <th>0</th>\n",
       "      <th>1</th>\n",
       "      <th>2</th>\n",
       "      <th>3</th>\n",
       "      <th>4</th>\n",
       "    </tr>\n",
       "  </thead>\n",
       "  <tbody>\n",
       "    <tr>\n",
       "      <th>0</th>\n",
       "      <td>0.05</td>\n",
       "      <td>0.425</td>\n",
       "      <td>0.80</td>\n",
       "      <td>0.80</td>\n",
       "      <td>0.05</td>\n",
       "    </tr>\n",
       "    <tr>\n",
       "      <th>1</th>\n",
       "      <td>0.30</td>\n",
       "      <td>0.050</td>\n",
       "      <td>0.80</td>\n",
       "      <td>0.05</td>\n",
       "      <td>0.05</td>\n",
       "    </tr>\n",
       "    <tr>\n",
       "      <th>2</th>\n",
       "      <td>0.05</td>\n",
       "      <td>0.050</td>\n",
       "      <td>0.05</td>\n",
       "      <td>0.05</td>\n",
       "      <td>0.05</td>\n",
       "    </tr>\n",
       "    <tr>\n",
       "      <th>3</th>\n",
       "      <td>0.05</td>\n",
       "      <td>0.050</td>\n",
       "      <td>0.05</td>\n",
       "      <td>0.05</td>\n",
       "      <td>0.05</td>\n",
       "    </tr>\n",
       "    <tr>\n",
       "      <th>4</th>\n",
       "      <td>0.30</td>\n",
       "      <td>0.050</td>\n",
       "      <td>0.05</td>\n",
       "      <td>0.05</td>\n",
       "      <td>0.05</td>\n",
       "    </tr>\n",
       "  </tbody>\n",
       "</table>\n",
       "</div>"
      ]
     },
     "metadata": {},
     "output_type": "display_data"
    }
   ],
   "execution_count": 29
  },
  {
   "metadata": {
    "ExecuteTime": {
     "end_time": "2024-06-07T22:40:40.922013Z",
     "start_time": "2024-06-07T22:40:40.917730Z"
    }
   },
   "cell_type": "code",
   "source": [
    "print('PageRank Vectors')\n",
    "display(pd.DataFrame(R_list))"
   ],
   "id": "b3a42b08c442c700",
   "outputs": [
    {
     "name": "stdout",
     "output_type": "stream",
     "text": [
      "PageRank Vectors\n"
     ]
    },
    {
     "data": {
      "text/plain": [
       "          0         1         2         3      4\n",
       "0  0.200000  0.200000  0.200000  0.200000  0.200\n",
       "1  0.425000  0.250000  0.050000  0.050000  0.100\n",
       "2  0.212500  0.187500  0.043750  0.043750  0.150\n",
       "3  0.167813  0.117813  0.031875  0.031875  0.085"
      ],
      "text/html": [
       "<div>\n",
       "<style scoped>\n",
       "    .dataframe tbody tr th:only-of-type {\n",
       "        vertical-align: middle;\n",
       "    }\n",
       "\n",
       "    .dataframe tbody tr th {\n",
       "        vertical-align: top;\n",
       "    }\n",
       "\n",
       "    .dataframe thead th {\n",
       "        text-align: right;\n",
       "    }\n",
       "</style>\n",
       "<table border=\"1\" class=\"dataframe\">\n",
       "  <thead>\n",
       "    <tr style=\"text-align: right;\">\n",
       "      <th></th>\n",
       "      <th>0</th>\n",
       "      <th>1</th>\n",
       "      <th>2</th>\n",
       "      <th>3</th>\n",
       "      <th>4</th>\n",
       "    </tr>\n",
       "  </thead>\n",
       "  <tbody>\n",
       "    <tr>\n",
       "      <th>0</th>\n",
       "      <td>0.200000</td>\n",
       "      <td>0.200000</td>\n",
       "      <td>0.200000</td>\n",
       "      <td>0.200000</td>\n",
       "      <td>0.200</td>\n",
       "    </tr>\n",
       "    <tr>\n",
       "      <th>1</th>\n",
       "      <td>0.425000</td>\n",
       "      <td>0.250000</td>\n",
       "      <td>0.050000</td>\n",
       "      <td>0.050000</td>\n",
       "      <td>0.100</td>\n",
       "    </tr>\n",
       "    <tr>\n",
       "      <th>2</th>\n",
       "      <td>0.212500</td>\n",
       "      <td>0.187500</td>\n",
       "      <td>0.043750</td>\n",
       "      <td>0.043750</td>\n",
       "      <td>0.150</td>\n",
       "    </tr>\n",
       "    <tr>\n",
       "      <th>3</th>\n",
       "      <td>0.167813</td>\n",
       "      <td>0.117813</td>\n",
       "      <td>0.031875</td>\n",
       "      <td>0.031875</td>\n",
       "      <td>0.085</td>\n",
       "    </tr>\n",
       "  </tbody>\n",
       "</table>\n",
       "</div>"
      ]
     },
     "metadata": {},
     "output_type": "display_data"
    }
   ],
   "execution_count": 30
  }
 ],
 "metadata": {
  "kernelspec": {
   "display_name": "Python 3",
   "language": "python",
   "name": "python3"
  },
  "language_info": {
   "codemirror_mode": {
    "name": "ipython",
    "version": 2
   },
   "file_extension": ".py",
   "mimetype": "text/x-python",
   "name": "python",
   "nbconvert_exporter": "python",
   "pygments_lexer": "ipython2",
   "version": "2.7.6"
  }
 },
 "nbformat": 4,
 "nbformat_minor": 5
}
